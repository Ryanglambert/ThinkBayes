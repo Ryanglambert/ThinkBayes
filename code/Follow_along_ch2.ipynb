{
 "cells": [
  {
   "cell_type": "markdown",
   "metadata": {},
   "source": [
    "# 2.1 Distributions"
   ]
  },
  {
   "cell_type": "code",
   "execution_count": 1,
   "metadata": {
    "collapsed": true
   },
   "outputs": [],
   "source": [
    "from thinkbayes import Pmf"
   ]
  },
  {
   "cell_type": "code",
   "execution_count": 170,
   "metadata": {
    "collapsed": true
   },
   "outputs": [],
   "source": [
    "pmf = Pmf()\n",
    "for x in [1,2,3,4,5,6]:\n",
    "    pmf.Set(x, 1/6.0)"
   ]
  },
  {
   "cell_type": "code",
   "execution_count": 172,
   "metadata": {
    "collapsed": false
   },
   "outputs": [
    {
     "name": "stdout",
     "output_type": "stream",
     "text": [
      "1 0.166666666667\n",
      "2 0.166666666667\n",
      "3 0.166666666667\n",
      "4 0.166666666667\n",
      "5 0.166666666667\n",
      "6 0.166666666667\n"
     ]
    }
   ],
   "source": [
    "pmf.Print()"
   ]
  },
  {
   "cell_type": "code",
   "execution_count": 173,
   "metadata": {
    "collapsed": false
   },
   "outputs": [
    {
     "data": {
      "text/plain": [
       "0.16666666666666666"
      ]
     },
     "execution_count": 173,
     "metadata": {},
     "output_type": "execute_result"
    }
   ],
   "source": [
    "pmf.Prob(1)"
   ]
  },
  {
   "cell_type": "markdown",
   "metadata": {},
   "source": [
    "### Pmf: \n",
    "most common used methods \n",
    "\n",
    "|title      |another_title|\n",
    "|:--------------:|:-----------:|\n",
    "|.Print()|prints all the probabilities|\n",
    "|.Prob(x)| returns P(x)|\n",
    "|.Set(x, P(x))| puts x: P(x) into Pmf.d (a dict)|\n",
    "|.Normalize()|makes all P(x)'s add to 1\n",
    "|.Mult(x, 0.75)| multiplies x by 0.75| "
   ]
  },
  {
   "cell_type": "markdown",
   "metadata": {},
   "source": [
    "# 2.2 The Cookie Problem"
   ]
  },
  {
   "cell_type": "markdown",
   "metadata": {},
   "source": [
    "bowl 1 30:10, bowl 2 20:20"
   ]
  },
  {
   "cell_type": "markdown",
   "metadata": {},
   "source": [
    "Probability per bowl if we picked a vanilla cookie.  "
   ]
  },
  {
   "cell_type": "code",
   "execution_count": 183,
   "metadata": {
    "collapsed": false
   },
   "outputs": [
    {
     "name": "stdout",
     "output_type": "stream",
     "text": [
      "Bowl 1 0.6\n",
      "Bowl 2 0.4\n"
     ]
    }
   ],
   "source": [
    "pmf = Pmf()\n",
    "### this is only for the case of pulling one vanilla cookie\n",
    "pmf.Set('Bowl 1', 0.5) # set our priors (P(H)) \n",
    "pmf.Set('Bowl 2', 0.5) # set our priors (P(H))\n",
    "pmf.Mult('Bowl 1', 0.75) # multiply by likelihood (P(D|H))\n",
    "pmf.Mult('Bowl 2', 0.5) # multiply by likelihood (P(D|H))\n",
    "pmf.Normalize() # normalize everything 1/P(D)\n",
    "pmf.Print()"
   ]
  },
  {
   "cell_type": "markdown",
   "metadata": {},
   "source": [
    "# 2.3 Bayesian Framework"
   ]
  },
  {
   "cell_type": "markdown",
   "metadata": {},
   "source": [
    "### Pmf: \n",
    "most common used methods \n",
    "\n",
    "|title      |another_title|\n",
    "|:--------------:|:-----------:|\n",
    "|.Print()|prints all the probabilities|\n",
    "|.Prob(x)| returns P(x)|\n",
    "|.Set(x, P(x))| puts x: P(x) into Pmf.d (a dict)|\n",
    "|.Normalize()|makes all P(x)'s add to 1\n",
    "|.Mult(x, 0.75)| multiplies x by 0.75| "
   ]
  },
  {
   "cell_type": "markdown",
   "metadata": {},
   "source": [
    "##### Let's make the code more general.  What are the steps?  \n",
    "1. load your priors \n",
    "    - pmf.Set(x, P(x))\n",
    "    - \n",
    "2. Multiply priors by likelihoods\n",
    "    - pmf.Mult(P(prior), P(likelihood))\n",
    "3. Normalize by dividing by P(D) (probability of data at all)\n",
    "    - pmf.Normalize()"
   ]
  },
  {
   "cell_type": "markdown",
   "metadata": {},
   "source": [
    "Differences introduced by Cookie\n",
    "- update method\n",
    "- likelihood function\n",
    "- bowl mixes"
   ]
  },
  {
   "cell_type": "code",
   "execution_count": 2,
   "metadata": {
    "collapsed": false
   },
   "outputs": [],
   "source": [
    "class Cookie(Pmf): # cookie class is a Pmf\n",
    "    def __init__(self, hypos): # initialize Cookie with hypotheses(hypos)\n",
    "        Pmf.__init__(self) # run __init__ from parent\n",
    "        for hypo in hypos: # \n",
    "            self.Set(hypo, 1) # \n",
    "        self.Normalize()\n",
    "    \n",
    "    def Update(self, data):\n",
    "        for hypo in self.Values():\n",
    "            likelihood = self.Likelihood(data, hypo) # not yet defined\n",
    "            self.Mult(hypo, likelihood)\n",
    "        self.Normalize()\n",
    "        \n",
    "    mixes = { # this is our likelihood\n",
    "        'Bowl 1':{\n",
    "            'vanilla': .75,\n",
    "            'chocolate': .25,\n",
    "        },\n",
    "        'Bowl 2':{\n",
    "            'vanilla': .5,\n",
    "            'chocolate': .5\n",
    "        }\n",
    "    }\n",
    "    def Likelihood(self, data, hypo): \n",
    "        \"\"\"\n",
    "        takes the data and the hypo and returns a likelihood\n",
    "        a likelihood function is written explicitly for Cookie\n",
    "        \"\"\"\n",
    "        mix = self.mixes[hypo]\n",
    "        like = mix[data]\n",
    "        return like"
   ]
  },
  {
   "cell_type": "code",
   "execution_count": 250,
   "metadata": {
    "collapsed": true
   },
   "outputs": [],
   "source": [
    "hypos = {\n",
    "    'Bowl 1': .5,\n",
    "    'Bowl 2': .5\n",
    "}"
   ]
  },
  {
   "cell_type": "code",
   "execution_count": 311,
   "metadata": {
    "collapsed": false
   },
   "outputs": [],
   "source": [
    "cookie = Cookie(hypos)"
   ]
  },
  {
   "cell_type": "code",
   "execution_count": 313,
   "metadata": {
    "collapsed": false
   },
   "outputs": [
    {
     "name": "stdout",
     "output_type": "stream",
     "text": [
      "Bowl 1 0.692307692308\n",
      "Bowl 2 0.307692307692\n",
      "Bowl 1 0.771428571429\n",
      "Bowl 2 0.228571428571\n",
      "Bowl 1 0.835051546392\n",
      "Bowl 2 0.164948453608\n"
     ]
    }
   ],
   "source": [
    "cookie.Update('vanilla')\n",
    "cookie.Print()\n",
    "cookie.Update('vanilla')\n",
    "cookie.Print()\n",
    "cookie.Update('vanilla')\n",
    "cookie.Print()\n"
   ]
  },
  {
   "cell_type": "code",
   "execution_count": null,
   "metadata": {
    "collapsed": true
   },
   "outputs": [],
   "source": []
  },
  {
   "cell_type": "markdown",
   "metadata": {},
   "source": [
    "# 2.5 Encapsulating the Framework"
   ]
  },
  {
   "cell_type": "markdown",
   "metadata": {},
   "source": [
    "# 2.6 The M&M problem"
   ]
  },
  {
   "cell_type": "markdown",
   "metadata": {},
   "source": [
    "# 2.7 Discussion"
   ]
  },
  {
   "cell_type": "markdown",
   "metadata": {},
   "source": [
    "# 2.8 Exercises\n",
    "make it so when we draw a cookie from Cookie we update the mix in that bowl.  \n",
    "\n",
    "Downey recommends that we use an instance variable to accomplish this.  \n",
    "\n",
    "- what is an instance variable?\n",
    "    - A variable shared with everything within this class \n",
    "- what is a class variable? \n",
    "    - A variable shared by all classes"
   ]
  },
  {
   "cell_type": "markdown",
   "metadata": {
    "collapsed": false
   },
   "source": [
    "# Cookie with and without replace comparison"
   ]
  },
  {
   "cell_type": "code",
   "execution_count": 16,
   "metadata": {
    "collapsed": false
   },
   "outputs": [
    {
     "name": "stdout",
     "output_type": "stream",
     "text": [
      "cookie with replacements\n",
      "Bowl 1 0.219512195122\n",
      "Bowl 2 0.780487804878\n",
      "cookie without replacement\n",
      "Bowl 1 0.738778811161\n",
      "Bowl 2 0.261221188839\n",
      "(35, 'cookies left')\n"
     ]
    }
   ],
   "source": [
    "import random\n",
    "\n",
    "class Cookie(Pmf): # cookie class is a Pmf\n",
    "    def __init__(self, hypos): # initialize Cookie with hypotheses(hypos)\n",
    "        Pmf.__init__(self) # run __init__ from parent\n",
    "        for hypo in hypos: # \n",
    "            self.Set(hypo, 1) # \n",
    "        self.Normalize()\n",
    "        \n",
    "        # important, you're selecting from the same bowl\n",
    "        self.mixes = {\n",
    "            'Bowl 1':{\n",
    "                'vanilla': 30,\n",
    "                'chocolate': 10,\n",
    "            },\n",
    "            'Bowl 2':{\n",
    "                'vanilla': 20,\n",
    "                'chocolate': 20\n",
    "            }            \n",
    "        }\n",
    "    \n",
    "    def Update(self, data):\n",
    "        for hypo in self.Values(): # ['bowl 1', 'bowl 2']\n",
    "            likelihood = self.Likelihood(data, hypo)# \n",
    "            self.Mult(hypo, likelihood)\n",
    "        self.Normalize()\n",
    "#         for key in self.mixes.keys(): # ['bowl 1', 'bowl 2']\n",
    "#             self.mixes[key][data] -= 1\n",
    "        \n",
    "    def Likelihood(self, data, hypo): \n",
    "        \"\"\"\n",
    "        takes the data and the hypo and returns a likelihood\n",
    "        a likelihood function is written explicitly for Cookie\n",
    "        \"\"\"\n",
    "        mix = self.mixes[hypo]\n",
    "        like = mix[data]\n",
    "        return like\n",
    "\n",
    "class CookieNoReplace(Pmf): # cookie class is a Pmf\n",
    "    def __init__(self, hypos): # initialize Cookie with hypotheses(hypos)\n",
    "        Pmf.__init__(self) # run __init__ from parent\n",
    "        for hypo in hypos: # \n",
    "            self.Set(hypo, 1) # \n",
    "        self.Normalize()\n",
    "        \n",
    "        # important, you're selecting from the same bowl\n",
    "        self.mixes = {\n",
    "            'Bowl 1':{\n",
    "                'vanilla': 30,\n",
    "                'chocolate': 10,\n",
    "            },\n",
    "            'Bowl 2':{\n",
    "                'vanilla': 20,\n",
    "                'chocolate': 20\n",
    "            }            \n",
    "        }\n",
    "    \n",
    "    def Update(self, data):\n",
    "        for hypo in self.Values(): # ['bowl 1', 'bowl 2']\n",
    "            likelihood = self.Likelihood(data, hypo)# \n",
    "            self.Mult(hypo, likelihood)\n",
    "        self.Normalize()\n",
    "        for key in self.mixes.keys(): # ['bowl 1', 'bowl 2']\n",
    "            self.mixes[key][data] -= 1\n",
    "        \n",
    "    def Likelihood(self, data, hypo): \n",
    "        \"\"\"\n",
    "        takes the data and the hypo and returns a likelihood\n",
    "        a likelihood function is written explicitly for Cookie\n",
    "        \"\"\"\n",
    "        mix = self.mixes[hypo]\n",
    "        like = mix[data]\n",
    "        return like\n",
    "\n",
    "class Bowl(object):\n",
    "    \"\"\"\n",
    "    this object is used to simulate the statistical exercise of sampling\n",
    "    from a bowl without replacing the samples\n",
    "    \"\"\"\n",
    "    def __init__(self, num_vanilla, num_chocolate):\n",
    "        self.in_bowl = ['vanilla' for i in range(num_vanilla)] \n",
    "        self.in_bowl += ['chocolate' for i in range(num_chocolate)]\n",
    "        \n",
    "    def take_cookie(self):\n",
    "        try:\n",
    "            random.shuffle(self.in_bowl)\n",
    "            taken_cookie = self.in_bowl.pop(0)\n",
    "        except IndexError:\n",
    "            print \"no more cookies\"\n",
    "        return taken_cookie\n",
    "            \n",
    "    def take_and_replace_cookie(self):\n",
    "        return random.choice(self.in_bowl)\n",
    "        \n",
    "priors = {\n",
    "    'Bowl 1': .5,\n",
    "    'Bowl 2': .5\n",
    "}\n",
    "\n",
    "print(\"cookie with replacements\")\n",
    "bowl = Bowl(30, 10)\n",
    "cookie = Cookie(priors)\n",
    "for i in range(5):\n",
    "    sample = bowl.take_and_replace_cookie()\n",
    "    cookie.Update(sample)\n",
    "cookie.Print()\n",
    "print(\"cookie without replacement\")\n",
    "\n",
    "cookie_no_replace = CookieNoReplace(priors)\n",
    "for i in range(5):\n",
    "    sample = bowl.take_cookie()\n",
    "    cookie_no_replace.Update(sample)\n",
    "#     print(len(bowl.in_bowl))\n",
    "cookie_no_replace.Print()\n",
    "# print(bowl.in_bowl)\n",
    "print(len(bowl.in_bowl), \"cookies left\")"
   ]
  },
  {
   "cell_type": "code",
   "execution_count": null,
   "metadata": {
    "collapsed": true
   },
   "outputs": [],
   "source": []
  },
  {
   "cell_type": "code",
   "execution_count": null,
   "metadata": {
    "collapsed": false
   },
   "outputs": [],
   "source": []
  },
  {
   "cell_type": "code",
   "execution_count": 409,
   "metadata": {
    "collapsed": false
   },
   "outputs": [
    {
     "data": {
      "text/plain": [
       "'chocolate'"
      ]
     },
     "execution_count": 409,
     "metadata": {},
     "output_type": "execute_result"
    }
   ],
   "source": [
    "random.choice(bowl1)"
   ]
  },
  {
   "cell_type": "code",
   "execution_count": 417,
   "metadata": {
    "collapsed": false
   },
   "outputs": [],
   "source": [
    "random.shuffle(bowl1)"
   ]
  },
  {
   "cell_type": "code",
   "execution_count": 418,
   "metadata": {
    "collapsed": false
   },
   "outputs": [
    {
     "data": {
      "text/plain": [
       "['vanilla', 'chocolate', 'vanilla']"
      ]
     },
     "execution_count": 418,
     "metadata": {},
     "output_type": "execute_result"
    }
   ],
   "source": [
    "bowl1"
   ]
  },
  {
   "cell_type": "markdown",
   "metadata": {},
   "source": [
    "##### Aside about parents and childs and how you still have to initialize the parents __init__ file within the child, (it's not done automatically)"
   ]
  },
  {
   "cell_type": "code",
   "execution_count": 316,
   "metadata": {
    "collapsed": false
   },
   "outputs": [
    {
     "data": {
      "text/plain": [
       "4"
      ]
     },
     "execution_count": 316,
     "metadata": {},
     "output_type": "execute_result"
    }
   ],
   "source": [
    "class Parent(object):\n",
    "    class_variable = 'hello'\n",
    "    def __init__(self, x):\n",
    "        self.x = x\n",
    "        self.instance_variable = 'instance'\n",
    "thing = Thing(4)\n",
    "thing.x\n"
   ]
  },
  {
   "cell_type": "code",
   "execution_count": null,
   "metadata": {
    "collapsed": true
   },
   "outputs": [],
   "source": []
  },
  {
   "cell_type": "code",
   "execution_count": null,
   "metadata": {
    "collapsed": true
   },
   "outputs": [],
   "source": []
  },
  {
   "cell_type": "code",
   "execution_count": null,
   "metadata": {
    "collapsed": true
   },
   "outputs": [],
   "source": []
  },
  {
   "cell_type": "code",
   "execution_count": null,
   "metadata": {
    "collapsed": true
   },
   "outputs": [],
   "source": []
  },
  {
   "cell_type": "code",
   "execution_count": null,
   "metadata": {
    "collapsed": true
   },
   "outputs": [],
   "source": []
  },
  {
   "cell_type": "code",
   "execution_count": null,
   "metadata": {
    "collapsed": true
   },
   "outputs": [],
   "source": []
  },
  {
   "cell_type": "code",
   "execution_count": null,
   "metadata": {
    "collapsed": true
   },
   "outputs": [],
   "source": []
  },
  {
   "cell_type": "code",
   "execution_count": null,
   "metadata": {
    "collapsed": true
   },
   "outputs": [],
   "source": []
  },
  {
   "cell_type": "code",
   "execution_count": null,
   "metadata": {
    "collapsed": true
   },
   "outputs": [],
   "source": []
  },
  {
   "cell_type": "code",
   "execution_count": null,
   "metadata": {
    "collapsed": true
   },
   "outputs": [],
   "source": []
  },
  {
   "cell_type": "code",
   "execution_count": null,
   "metadata": {
    "collapsed": true
   },
   "outputs": [],
   "source": []
  },
  {
   "cell_type": "code",
   "execution_count": null,
   "metadata": {
    "collapsed": true
   },
   "outputs": [],
   "source": []
  },
  {
   "cell_type": "code",
   "execution_count": null,
   "metadata": {
    "collapsed": true
   },
   "outputs": [],
   "source": []
  },
  {
   "cell_type": "code",
   "execution_count": null,
   "metadata": {
    "collapsed": true
   },
   "outputs": [],
   "source": []
  },
  {
   "cell_type": "code",
   "execution_count": null,
   "metadata": {
    "collapsed": true
   },
   "outputs": [],
   "source": []
  },
  {
   "cell_type": "code",
   "execution_count": null,
   "metadata": {
    "collapsed": true
   },
   "outputs": [],
   "source": []
  },
  {
   "cell_type": "code",
   "execution_count": null,
   "metadata": {
    "collapsed": true
   },
   "outputs": [],
   "source": []
  },
  {
   "cell_type": "code",
   "execution_count": null,
   "metadata": {
    "collapsed": true
   },
   "outputs": [],
   "source": []
  },
  {
   "cell_type": "code",
   "execution_count": null,
   "metadata": {
    "collapsed": true
   },
   "outputs": [],
   "source": []
  },
  {
   "cell_type": "code",
   "execution_count": null,
   "metadata": {
    "collapsed": true
   },
   "outputs": [],
   "source": []
  },
  {
   "cell_type": "code",
   "execution_count": null,
   "metadata": {
    "collapsed": true
   },
   "outputs": [],
   "source": []
  },
  {
   "cell_type": "code",
   "execution_count": null,
   "metadata": {
    "collapsed": true
   },
   "outputs": [],
   "source": []
  },
  {
   "cell_type": "code",
   "execution_count": null,
   "metadata": {
    "collapsed": true
   },
   "outputs": [],
   "source": []
  },
  {
   "cell_type": "code",
   "execution_count": null,
   "metadata": {
    "collapsed": true
   },
   "outputs": [],
   "source": []
  },
  {
   "cell_type": "code",
   "execution_count": null,
   "metadata": {
    "collapsed": true
   },
   "outputs": [],
   "source": []
  },
  {
   "cell_type": "code",
   "execution_count": null,
   "metadata": {
    "collapsed": true
   },
   "outputs": [],
   "source": []
  },
  {
   "cell_type": "code",
   "execution_count": null,
   "metadata": {
    "collapsed": true
   },
   "outputs": [],
   "source": []
  },
  {
   "cell_type": "code",
   "execution_count": null,
   "metadata": {
    "collapsed": true
   },
   "outputs": [],
   "source": []
  },
  {
   "cell_type": "code",
   "execution_count": null,
   "metadata": {
    "collapsed": true
   },
   "outputs": [],
   "source": []
  },
  {
   "cell_type": "code",
   "execution_count": null,
   "metadata": {
    "collapsed": true
   },
   "outputs": [],
   "source": []
  },
  {
   "cell_type": "code",
   "execution_count": null,
   "metadata": {
    "collapsed": true
   },
   "outputs": [],
   "source": []
  }
 ],
 "metadata": {
  "kernelspec": {
   "display_name": "Python 2",
   "language": "python",
   "name": "python2"
  },
  "language_info": {
   "codemirror_mode": {
    "name": "ipython",
    "version": 2
   },
   "file_extension": ".py",
   "mimetype": "text/x-python",
   "name": "python",
   "nbconvert_exporter": "python",
   "pygments_lexer": "ipython2",
   "version": "2.7.9"
  }
 },
 "nbformat": 4,
 "nbformat_minor": 0
}
